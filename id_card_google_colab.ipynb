# prompt: add one more picture having transparency scale

import cv2
import numpy as np
import matplotlib.pyplot as plt


def generate_id_card(name, roll_number, center, city, timing, profile_image_path):
    """
    Generates a student ID card with the specified information.

    Args:
        name: Student's name.
        roll_number: Student's roll number.
        center: Student's center.
        city: Student's city.
        timing: Student's timing.
        profile_image_path: Path to the student's profile image.
    """

    # Load the profile image
    try:
        profile_image = cv2.imread(profile_image_path)
        if profile_image is None:
            print(f"Error: Could not load image from {profile_image_path}")
            return
    except Exception as e:
        print(f"Error loading image: {e}")
        return

    # Load the background image
    try:
        background_image = cv2.imread("/content/card-design.jpg")  # Replace with your background image path
        if background_image is None:
            print("Error: Could not load background image.")
            return

        # Resize the background image to match the ID card size
        background_image = cv2.resize(background_image, (800, 600))  # Increased height to 600
    except Exception as e:
        print(f"Error loading background image: {e}")
        return

    # Add the profile image to the ID card
    profile_image_width = 200
    profile_image_height = 200
    x_offset = 50
    y_offset = 180

    # Resize the profile image
    profile_image = cv2.resize(profile_image, (profile_image_width, profile_image_height))

    # Add border shadow
    border_size = 10

    # Get the average color of the background image around the profile image area
    avg_color = np.mean(background_image[y_offset - border_size:y_offset + profile_image_height + border_size,
                                        x_offset - border_size:x_offset + profile_image_width + border_size], axis=(0, 1))
    shadow_color = tuple(map(int, avg_color))  # Convert to integer tuple

    # Create a new image with a border
    new_profile_image = np.zeros((profile_image_height + 2 * border_size, profile_image_width + 2 * border_size, 3), dtype=np.uint8)
    new_profile_image[:, :] = shadow_color  # Fill the border with shadow color

    # Paste the original image onto the new image with the border
    new_profile_image[border_size:border_size + profile_image_height, border_size:border_size + profile_image_width] = profile_image

    # Now, new_profile_image has the border shadow
    background_image[y_offset:y_offset + profile_image_height + 2 * border_size, x_offset:x_offset + profile_image_width + 2 * border_size] = new_profile_image

    # Add text fields to the ID card
    font = cv2.FONT_HERSHEY_SIMPLEX
    font_scale = 1.2  # Increased font scale for title
    text_color = (0, 0, 0)  # Black text color
    thickness = 3  # Increased thickness for visibility

    # Add ID CARD title
    cv2.putText(background_image, "ID CARD", (70, 130), font, font_scale, text_color, thickness)

    font_scale = 0.8  # Adjusted font scale for better fit
    thickness = 2  # Increased thickness for visibility
    cv2.putText(background_image, f"Name: {name}", (x_offset + profile_image_width + 50, y_offset + 50), font, font_scale, text_color, thickness)
    cv2.putText(background_image, f"Roll Number: {roll_number}", (x_offset + profile_image_width + 50, y_offset + 85), font, font_scale, text_color, thickness)
    cv2.putText(background_image, f"Center: {center}", (x_offset + profile_image_width + 50, y_offset + 120), font, font_scale, text_color, thickness)
    cv2.putText(background_image, f"City: {city}", (x_offset + profile_image_width + 50, y_offset + 155), font, font_scale, text_color, thickness)
    cv2.putText(background_image, f"Timing: {timing}", (x_offset + profile_image_width + 50, y_offset + 190), font, font_scale, text_color, thickness)

    # Add signature portion
    cv2.putText(background_image, "Signature:", (80, 480), font, font_scale, text_color, thickness)
    # Remove the rectangle for signature

    # Load the second image with transparency
    try:
        second_image = cv2.imread("/content/loin logo.png", cv2.IMREAD_UNCHANGED)  # Load with alpha channel
        if second_image is None:
            print("Error: Could not load second image.")
            return

        # Resize the second image to fit the ID card
        second_image = cv2.resize(second_image, (480, 300))  # Adjust size as needed

        # Calculate the position to place the second image
        x_pos = 225
        y_pos = 175

        # Overlay the second image with transparency
        alpha_channel = second_image[:, :, 3] / 350  # Normalize alpha channel
        for c in range(0, 3):
            background_image[y_pos:y_pos + second_image.shape[0], x_pos:x_pos + second_image.shape[1], c] = \
                (1 - alpha_channel) * background_image[y_pos:y_pos + second_image.shape[0], x_pos:x_pos + second_image.shape[1], c] + \
                alpha_channel * second_image[:, :, c]

    except Exception as e:
        print(f"Error loading second image: {e}")
        return

    # Convert the image to grayscale
    gray = cv2.cvtColor(background_image, cv2.COLOR_BGR2GRAY)

    # Find the contours
    contours, _ = cv2.findContours(gray, cv2.RETR_EXTERNAL, cv2.CHAIN_APPROX_SIMPLE)

    # Find the largest contour (assuming it's the main content area)
    largest_contour = max(contours, key=cv2.contourArea)

    # Get the bounding rectangle of the largest contour
    x, y, w, h = cv2.boundingRect(largest_contour)

    # Crop the image to the bounding rectangle
    cropped_image = background_image[y:y+h, x:x+w]

    # Display the cropped image
    plt.imshow(cv2.cvtColor(cropped_image, cv2.COLOR_BGR2RGB))
    plt.axis('off')
    plt.show()

# Example usage
name = "Habib ur Rehman"
roll_number = "12345"
center = "Bahria Auditorium"
city = "Karachi"
timing = "9:00 AM - 1:00 PM"
profile_image_path = "/content/mypic.jpg"  # Replace with the actual path to your profile image

generate_id_card(name, roll_number, center, city, timing, profile_image_path)
